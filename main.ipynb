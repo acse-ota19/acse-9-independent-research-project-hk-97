{
  "nbformat": 4,
  "nbformat_minor": 0,
  "metadata": {
    "colab": {
      "name": "main.ipynb",
      "version": "0.3.2",
      "provenance": [],
      "toc_visible": true,
      "include_colab_link": true
    },
    "kernelspec": {
      "name": "python3",
      "display_name": "Python 3"
    },
    "accelerator": "GPU"
  },
  "cells": [
    {
      "cell_type": "markdown",
      "metadata": {
        "id": "view-in-github",
        "colab_type": "text"
      },
      "source": [
        "<a href=\"https://colab.research.google.com/github/h-khandahari/sensory-gan/blob/master/main.ipynb\" target=\"_parent\"><img src=\"https://colab.research.google.com/assets/colab-badge.svg\" alt=\"Open In Colab\"/></a>"
      ]
    },
    {
      "cell_type": "markdown",
      "metadata": {
        "id": "If0QYARwaT1p",
        "colab_type": "text"
      },
      "source": [
        "## Syncing GitHub"
      ]
    },
    {
      "cell_type": "code",
      "metadata": {
        "id": "64Q2dfwbZN5f",
        "colab_type": "code",
        "outputId": "0ae8f94f-40d7-4d3a-a4a0-e508317c10ea",
        "colab": {
          "base_uri": "https://localhost:8080/",
          "height": 187
        }
      },
      "source": [
        "from getpass import getpass\n",
        "import os\n",
        "user = getpass('github user')\n",
        "password = getpass('github password')\n",
        "os.environ['GITHUB_AUTH'] = user + ':' + password\n",
        "\n",
        "!git clone https://$GITHUB_AUTH@github.com/h-khandahari/sensory-gan/\n"
      ],
      "execution_count": 12,
      "outputs": [
        {
          "output_type": "stream",
          "text": [
            "github user··········\n",
            "github password··········\n",
            "Cloning into 'sensory-gan'...\n",
            "remote: Enumerating objects: 36, done.\u001b[K\n",
            "remote: Counting objects: 100% (36/36), done.\u001b[K\n",
            "remote: Compressing objects: 100% (32/32), done.\u001b[K\n",
            "remote: Total 494 (delta 18), reused 8 (delta 4), pack-reused 458\u001b[K\n",
            "Receiving objects: 100% (494/494), 69.99 MiB | 10.95 MiB/s, done.\n",
            "Resolving deltas: 100% (55/55), done.\n",
            "Checking out files: 100% (373/373), done.\n"
          ],
          "name": "stdout"
        }
      ]
    },
    {
      "cell_type": "markdown",
      "metadata": {
        "id": "s_3qxkhqlHD8",
        "colab_type": "text"
      },
      "source": [
        "## Change directory to project folder"
      ]
    },
    {
      "cell_type": "code",
      "metadata": {
        "id": "k3N8W3yTUXrg",
        "colab_type": "code",
        "colab": {
          "base_uri": "https://localhost:8080/",
          "height": 34
        },
        "outputId": "4cf403bb-9c8d-489e-d361-c38f1613a5bf"
      },
      "source": [
        "cd sensory-gan"
      ],
      "execution_count": 2,
      "outputs": [
        {
          "output_type": "stream",
          "text": [
            "/content/sensory-gan\n"
          ],
          "name": "stdout"
        }
      ]
    },
    {
      "cell_type": "markdown",
      "metadata": {
        "id": "4H8A202ylQrp",
        "colab_type": "text"
      },
      "source": [
        "## Load Modules"
      ]
    },
    {
      "cell_type": "code",
      "metadata": {
        "id": "FU5Qtd9f3I98",
        "colab_type": "code",
        "colab": {}
      },
      "source": [
        "from trainer import Trainer\n",
        "from gan import GAN\n",
        "from DataLoader import DataLoader\n",
        "from DataHandler import DataHandler\n",
        "from utils import create_directories"
      ],
      "execution_count": 0,
      "outputs": []
    },
    {
      "cell_type": "markdown",
      "metadata": {
        "id": "cI-gjb70lVR5",
        "colab_type": "text"
      },
      "source": [
        "## Load and Prepare Data\n",
        "\n",
        "The requested features and activities are also determined here"
      ]
    },
    {
      "cell_type": "code",
      "metadata": {
        "id": "z3DHB5Rl3dML",
        "colab_type": "code",
        "colab": {}
      },
      "source": [
        "features = [\"userAcceleration.x\", \"userAcceleration.y\", \"userAcceleration.z\"]\n",
        "act_labels = [\"std\"]#,\"ups\",\"wlk\", \"jog\", \"sit\", \"std\"]\n",
        "\n",
        "\n",
        "train_loader = DataLoader()\n",
        "train_ts, test_ts,num_features, num_act_labels = train_loader.extract_from_csv(features, act_labels, verbose=True)\n",
        "\n",
        "\n",
        "train_data, act_train_labels = train_loader.time_series_to_section(train_ts.copy(),\n",
        "                                                                   num_act_labels,\n",
        "                                                                   sliding_window_size=200,\n",
        "                                                                   step_size_of_sliding_window=10)\n",
        "\n",
        "test_data, act_test_labels = train_loader.time_series_to_section(test_ts.copy(),\n",
        "                                                                 num_act_labels,\n",
        "                                                                 sliding_window_size=200,\n",
        "                                                                 step_size_of_sliding_window=10)\n",
        "\n",
        "print(\"---Data is successfully loaded\")\n",
        "handler = DataHandler(train_data, test_data)\n",
        "norm_train = handler.normalise(\"train\")\n",
        "norm_test = handler.normalise(\"test\")\n",
        "\n",
        "print(\"--- Shape of Training Data:\", train_data.shape)\n",
        "print(\"--- Shape of Test Data:\", test_data.shape)\n"
      ],
      "execution_count": 0,
      "outputs": []
    },
    {
      "cell_type": "markdown",
      "metadata": {
        "id": "JIkgX6JxlfCQ",
        "colab_type": "text"
      },
      "source": [
        "## Defining the Experiment"
      ]
    },
    {
      "cell_type": "code",
      "metadata": {
        "id": "ZAIPpIWI4Ssv",
        "colab_type": "code",
        "colab": {}
      },
      "source": [
        "expt_name = \"fristd2\"\n",
        "\n",
        "create_directories(expt_name)\n",
        "gan_ = GAN(norm_train.shape)\n",
        "trainer_ = Trainer(gan_, expt_name)\n",
        "trainer_.train_gan(epochs=20000, batch_size=128, sample_interval=10, train_data=norm_train)"
      ],
      "execution_count": 0,
      "outputs": []
    }
  ]
}